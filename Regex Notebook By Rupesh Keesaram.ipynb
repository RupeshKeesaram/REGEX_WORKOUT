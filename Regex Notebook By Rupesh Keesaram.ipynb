{
 "cells": [
  {
   "cell_type": "markdown",
   "metadata": {},
   "source": [
    "# REGEX \n",
    " * Two types of regex, they are \n",
    "    1. Perl style or perl flavour     - perl language\n",
    "    2. POSIX style of POSIX flavour   - IEEE\n",
    " * Python supports perl flavour regex"
   ]
  },
  {
   "cell_type": "markdown",
   "metadata": {},
   "source": [
    "# HISTORY OF REGEX\n",
    "1. Warner MCculloch & walter pitts  - Introduced the concept of  regex in thier thiesus ( Also Developed Basic Neuron - MP Neuron) - 1943\n",
    "2. Srephen kleen - Father of regex (regular expressions and regular sets) - 1956\n",
    "3. Ken Thompson  - Developed the first text editor (qed) - 1968\n",
    "4. Alfred Aho    - Developed complete implementation of grep (g< regular expression>p) - 1979\n",
    "5. Larry Wall    - Created Perl which is became the first programming language that supports regex - 1987"
   ]
  },
  {
   "cell_type": "markdown",
   "metadata": {},
   "source": [
    "## INTRO TO REGULAR EXPRESSIONS\n",
    "\n",
    "* Regular Expression is used to specify a sequence of characters\n",
    "* Regular patterns are the simple sequence of characters\n",
    "* There are mainly two components of any regex pattern, They are\n",
    "   1. Literals (Ordinary characters)       --> These characters doesn't have any special meaning and are executed as it is\n",
    "   2. Metacharacters ( Special characters) --> These characters have some special meaning\n",
    "\n",
    "* Cheat seat for regex :https://www.dataquest.io/wp-content/uploads/2019/03/python-regular-expressions-cheat-sheet.pdf\n"
   ]
  },
  {
   "cell_type": "markdown",
   "metadata": {},
   "source": [
    "## BASIC TOPICS \n",
    "<h3> 1. EXAMPLES FOR ANCHORS </h3>"
   ]
  },
  {
   "cell_type": "raw",
   "metadata": {},
   "source": [
    "^The        matches any string that starts with The\n",
    "end$        matches a string that ends with end\n",
    "^The end$   exact string match (starts and ends with The end\n",
    "roar        matches any string that has the text roar in it"
   ]
  },
  {
   "cell_type": "code",
   "execution_count": 12,
   "metadata": {},
   "outputs": [
    {
     "data": {
      "text/plain": [
       "['hello']"
      ]
     },
     "execution_count": 12,
     "metadata": {},
     "output_type": "execute_result"
    }
   ],
   "source": [
    "import re\n",
    "## Find out whether the string starts with \"hello\" or not (^ character is used)\n",
    "\n",
    "pattern = re.compile(\"^hello\")\n",
    "string = \"hello world\"\n",
    "pattern.findall(string)"
   ]
  },
  {
   "cell_type": "code",
   "execution_count": 13,
   "metadata": {},
   "outputs": [
    {
     "data": {
      "text/plain": [
       "['world']"
      ]
     },
     "execution_count": 13,
     "metadata": {},
     "output_type": "execute_result"
    }
   ],
   "source": [
    "## Find out wether the string starts with \"world\" or not ($ character is used)\n",
    "\n",
    "pattern = re.compile(\"world$\")\n",
    "string = \"hello world\"\n",
    "pattern.findall(string)"
   ]
  },
  {
   "cell_type": "code",
   "execution_count": 14,
   "metadata": {},
   "outputs": [
    {
     "data": {
      "text/plain": [
       "['h', 'e', 'l', 'l', 'o', ' ', 'w', 'o', 'r', 'l', 'd']"
      ]
     },
     "execution_count": 14,
     "metadata": {},
     "output_type": "execute_result"
    }
   ],
   "source": [
    "# matching any character (dot(.) character is used)\n",
    "\n",
    "pattern = \".\"\n",
    "string = \"hello world\"\n",
    "re.findall(pattern,string)"
   ]
  },
  {
   "cell_type": "code",
   "execution_count": 15,
   "metadata": {},
   "outputs": [
    {
     "data": {
      "text/plain": [
       "['$']"
      ]
     },
     "execution_count": 15,
     "metadata": {},
     "output_type": "execute_result"
    }
   ],
   "source": [
    "# Escaping special characters (\\) \n",
    "# In this case the only the dot character is recognized (acts as a normal dot character)\n",
    "\n",
    "pattern =\"\\.\"\n",
    "string =\"hello world.\"\n",
    "re.findall(pattern,string)\n",
    "\n",
    "\n",
    "# second example\n",
    "\n",
    "pattern = \"\\$\"\n",
    "string = \"hello$world\"\n",
    "re.findall(pattern,string)"
   ]
  },
  {
   "cell_type": "code",
   "execution_count": 16,
   "metadata": {},
   "outputs": [
    {
     "data": {
      "text/plain": [
       "['Sita', 'Rama']"
      ]
     },
     "execution_count": 16,
     "metadata": {},
     "output_type": "execute_result"
    }
   ],
   "source": [
    "# matching this or that ( | character is used)\n",
    "# example (A|B if A is matched the B is left unchecked/untried)\n",
    "\n",
    "pattern = 'Rama|Sita'\n",
    "string = \"Sita loves Rama\"\n",
    "re.findall(pattern,string)"
   ]
  },
  {
   "cell_type": "markdown",
   "metadata": {},
   "source": [
    "* We are using findall method so  it will fetch all the matches (both Rama and Sita)\n",
    "* if you try the same example with match or search method then we can able to see only one match (Sita)"
   ]
  },
  {
   "cell_type": "code",
   "execution_count": 17,
   "metadata": {},
   "outputs": [
    {
     "data": {
      "text/plain": [
       "['bread', 'bed']"
      ]
     },
     "execution_count": 17,
     "metadata": {},
     "output_type": "execute_result"
    }
   ],
   "source": [
    "# matching one or more occurances (+ character is used)\n",
    "\n",
    "pattern = \"b[a-z]+d\"\n",
    "string = \"she is eating bread on bed bd\"\n",
    "re.findall(pattern,string)"
   ]
  },
  {
   "cell_type": "code",
   "execution_count": 18,
   "metadata": {},
   "outputs": [
    {
     "data": {
      "text/plain": [
       "['bread', 'bed', 'bd']"
      ]
     },
     "execution_count": 18,
     "metadata": {},
     "output_type": "execute_result"
    }
   ],
   "source": [
    "# matching 0 or more occurances ( * character is used)\n",
    "\n",
    "pattern = \"b[a-z]*d\"\n",
    "string = \"she is eating bread on bed bd\"\n",
    "re.findall(pattern,string)"
   ]
  },
  {
   "cell_type": "markdown",
   "metadata": {},
   "source": [
    "* We can notice that in extra bd is matched when we used * character \n",
    "* the second example denotes 0 or more characters are needed to be present between b and d\n",
    "* whereas the first one denotes atleast one or more character needs to be present between b and d\n"
   ]
  },
  {
   "cell_type": "code",
   "execution_count": 19,
   "metadata": {},
   "outputs": [
    {
     "data": {
      "text/plain": [
       "['a', 'a', 'a', 'a', '']"
      ]
     },
     "execution_count": 19,
     "metadata": {},
     "output_type": "execute_result"
    }
   ],
   "source": [
    "# all the regex expressions are greedy that means they try to find all the matches\n",
    "# so in order to make them non greedy ? character is used\n",
    "\n",
    "pattern = \"a?\"\n",
    "string = \"aaaa\"\n",
    "re.findall(pattern,string)"
   ]
  },
  {
   "cell_type": "code",
   "execution_count": 20,
   "metadata": {},
   "outputs": [
    {
     "data": {
      "text/plain": [
       "['aa', 'aa']"
      ]
     },
     "execution_count": 20,
     "metadata": {},
     "output_type": "execute_result"
    }
   ],
   "source": [
    "# matching the expression in predefined m number of times ({m} where m is an integer value)\n",
    "\n",
    "pattern = \"a{2}\"\n",
    "string = \"asabaabieaaa\"\n",
    "re.findall(pattern,string)"
   ]
  },
  {
   "cell_type": "code",
   "execution_count": 21,
   "metadata": {},
   "outputs": [
    {
     "data": {
      "text/plain": [
       "['aa', 'aaa']"
      ]
     },
     "execution_count": 21,
     "metadata": {},
     "output_type": "execute_result"
    }
   ],
   "source": [
    "# matching the expression m to n number of times ({m,n} where m and n are integers)\n",
    "\n",
    "pattern = \"a{2,4}\"\n",
    "string = \"asabaabieaaa\"\n",
    "re.findall(pattern,string)"
   ]
  },
  {
   "cell_type": "code",
   "execution_count": 22,
   "metadata": {},
   "outputs": [
    {
     "data": {
      "text/plain": [
       "['aa', 'aa']"
      ]
     },
     "execution_count": 22,
     "metadata": {},
     "output_type": "execute_result"
    }
   ],
   "source": [
    "# matching the expression m times ignoring n ({m,n}? where m,n are integers)\n",
    "\n",
    "pattern = \"a{2,4}?\"\n",
    "string = \"asabaabieaaa\"\n",
    "re.findall(pattern,string)"
   ]
  },
  {
   "cell_type": "markdown",
   "metadata": {},
   "source": [
    "<h3> 2. EXAMPLES FOR CHARACTER CLASSES OR SPECIAL SEQUENCES </h3>"
   ]
  },
  {
   "cell_type": "code",
   "execution_count": null,
   "metadata": {},
   "outputs": [],
   "source": []
  }
 ],
 "metadata": {
  "kernelspec": {
   "display_name": "Python 3",
   "language": "python",
   "name": "python3"
  },
  "language_info": {
   "codemirror_mode": {
    "name": "ipython",
    "version": 3
   },
   "file_extension": ".py",
   "mimetype": "text/x-python",
   "name": "python",
   "nbconvert_exporter": "python",
   "pygments_lexer": "ipython3",
   "version": "3.8.3"
  }
 },
 "nbformat": 4,
 "nbformat_minor": 4
}
